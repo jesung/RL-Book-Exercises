{
  "nbformat": 4,
  "nbformat_minor": 0,
  "metadata": {
    "colab": {
      "name": "RLbook 4.7",
      "version": "0.3.2",
      "provenance": [],
      "collapsed_sections": [],
      "include_colab_link": true
    },
    "kernelspec": {
      "name": "python3",
      "display_name": "Python 3"
    }
  },
  "cells": [
    {
      "cell_type": "markdown",
      "metadata": {
        "id": "view-in-github",
        "colab_type": "text"
      },
      "source": [
        "<a href=\"https://colab.research.google.com/github/jesung/RL-Book-Exercises/blob/master/RLbook_4_7.ipynb\" target=\"_parent\"><img src=\"https://colab.research.google.com/assets/colab-badge.svg\" alt=\"Open In Colab\"/></a>"
      ]
    },
    {
      "metadata": {
        "id": "RSktjjPJ8lHh",
        "colab_type": "code",
        "colab": {}
      },
      "cell_type": "code",
      "source": [
        "import numpy as np\n",
        "import math\n"
      ],
      "execution_count": 0,
      "outputs": []
    },
    {
      "metadata": {
        "id": "NI8yOCos8mkq",
        "colab_type": "code",
        "colab": {}
      },
      "cell_type": "code",
      "source": [
        "def poisson(n, l):\n",
        "    return l**n * math.exp(-l) / math.factorial(n)\n",
        "\n",
        "class location:\n",
        "    def __init__(self):\n",
        "        self.request_rate = 1\n",
        "        self.return_rate = 1\n",
        "        self.requests = np.zeros((20))\n",
        "        self.returns = np.zeros((20))\n",
        "  \n",
        "    def calc_prob(self):\n",
        "        for i in range(20):\n",
        "          self.requests[i] = poisson(i, self.request_rate)\n",
        "          self.returns[i] = poisson(i, self.return_rate)"
      ],
      "execution_count": 0,
      "outputs": []
    },
    {
      "metadata": {
        "id": "L6V5hpF18n8s",
        "colab_type": "code",
        "outputId": "1f1d3489-867c-4e0c-cc71-419c32bdfba6",
        "colab": {
          "base_uri": "https://localhost:8080/",
          "height": 193
        }
      },
      "cell_type": "code",
      "source": [
        "loc1 = location()\n",
        "loc1.request_rate = 3\n",
        "loc1.return_rate = 3\n",
        "loc1.calc_prob()\n",
        "\n",
        "loc2 = location()\n",
        "loc2.request_rate = 4\n",
        "loc2.return_rate = 2\n",
        "loc2.calc_prob()\n",
        "\n",
        "print('requests', loc1.requests, 'returns', loc1.returns)\n",
        "\n",
        "#print(np.sum(loc1.requests))\n",
        "#0.9999999999168558"
      ],
      "execution_count": 0,
      "outputs": [
        {
          "output_type": "stream",
          "text": [
            "requests [4.97870684e-02 1.49361205e-01 2.24041808e-01 2.24041808e-01\n",
            " 1.68031356e-01 1.00818813e-01 5.04094067e-02 2.16040315e-02\n",
            " 8.10151179e-03 2.70050393e-03 8.10151179e-04 2.20950322e-04\n",
            " 5.52375804e-05 1.27471339e-05 2.73152870e-06 5.46305740e-07\n",
            " 1.02432326e-07 1.80762929e-08 3.01271548e-09 4.75691918e-10] returns [4.97870684e-02 1.49361205e-01 2.24041808e-01 2.24041808e-01\n",
            " 1.68031356e-01 1.00818813e-01 5.04094067e-02 2.16040315e-02\n",
            " 8.10151179e-03 2.70050393e-03 8.10151179e-04 2.20950322e-04\n",
            " 5.52375804e-05 1.27471339e-05 2.73152870e-06 5.46305740e-07\n",
            " 1.02432326e-07 1.80762929e-08 3.01271548e-09 4.75691918e-10]\n",
            "0.9999999999168558\n"
          ],
          "name": "stdout"
        }
      ]
    }
  ]
}