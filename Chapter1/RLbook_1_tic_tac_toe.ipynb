{
  "nbformat": 4,
  "nbformat_minor": 0,
  "metadata": {
    "colab": {
      "name": "RLbook-1_tic_tac_toe.ipynb",
      "provenance": [],
      "include_colab_link": true
    },
    "kernelspec": {
      "name": "python3",
      "display_name": "Python 3"
    }
  },
  "cells": [
    {
      "cell_type": "markdown",
      "metadata": {
        "id": "view-in-github",
        "colab_type": "text"
      },
      "source": [
        "<a href=\"https://colab.research.google.com/github/jesung/RL-Book-Exercises/blob/master/Chapter1/RLbook_1_tic_tac_toe.ipynb\" target=\"_parent\"><img src=\"https://colab.research.google.com/assets/colab-badge.svg\" alt=\"Open In Colab\"/></a>"
      ]
    },
    {
      "cell_type": "code",
      "metadata": {
        "id": "RxrGMG0aZLyP",
        "colab_type": "code",
        "outputId": "fa81586a-e9f4-4cd8-945b-a09941d0cdbf",
        "colab": {
          "base_uri": "https://localhost:8080/",
          "height": 374
        }
      },
      "source": [
        "!pip install git+https://github.com/ClementRomac/gym-tictactoe\n"
      ],
      "execution_count": 1,
      "outputs": [
        {
          "output_type": "stream",
          "text": [
            "Collecting git+https://github.com/ClementRomac/gym-tictactoe\n",
            "  Cloning https://github.com/ClementRomac/gym-tictactoe to /tmp/pip-req-build-01bodbxd\n",
            "  Running command git clone -q https://github.com/ClementRomac/gym-tictactoe /tmp/pip-req-build-01bodbxd\n",
            "Requirement already satisfied: gym>=0.2.3 in /usr/local/lib/python3.6/dist-packages (from gym-tictactoe==0.0.1) (0.10.11)\n",
            "Requirement already satisfied: pyglet>=1.2.0 in /usr/local/lib/python3.6/dist-packages (from gym>=0.2.3->gym-tictactoe==0.0.1) (1.4.4)\n",
            "Requirement already satisfied: six in /usr/local/lib/python3.6/dist-packages (from gym>=0.2.3->gym-tictactoe==0.0.1) (1.12.0)\n",
            "Requirement already satisfied: requests>=2.0 in /usr/local/lib/python3.6/dist-packages (from gym>=0.2.3->gym-tictactoe==0.0.1) (2.21.0)\n",
            "Requirement already satisfied: numpy>=1.10.4 in /usr/local/lib/python3.6/dist-packages (from gym>=0.2.3->gym-tictactoe==0.0.1) (1.16.5)\n",
            "Requirement already satisfied: scipy in /usr/local/lib/python3.6/dist-packages (from gym>=0.2.3->gym-tictactoe==0.0.1) (1.3.1)\n",
            "Requirement already satisfied: future in /usr/local/lib/python3.6/dist-packages (from pyglet>=1.2.0->gym>=0.2.3->gym-tictactoe==0.0.1) (0.16.0)\n",
            "Requirement already satisfied: certifi>=2017.4.17 in /usr/local/lib/python3.6/dist-packages (from requests>=2.0->gym>=0.2.3->gym-tictactoe==0.0.1) (2019.9.11)\n",
            "Requirement already satisfied: idna<2.9,>=2.5 in /usr/local/lib/python3.6/dist-packages (from requests>=2.0->gym>=0.2.3->gym-tictactoe==0.0.1) (2.8)\n",
            "Requirement already satisfied: chardet<3.1.0,>=3.0.2 in /usr/local/lib/python3.6/dist-packages (from requests>=2.0->gym>=0.2.3->gym-tictactoe==0.0.1) (3.0.4)\n",
            "Requirement already satisfied: urllib3<1.25,>=1.21.1 in /usr/local/lib/python3.6/dist-packages (from requests>=2.0->gym>=0.2.3->gym-tictactoe==0.0.1) (1.24.3)\n",
            "Building wheels for collected packages: gym-tictactoe\n",
            "  Building wheel for gym-tictactoe (setup.py) ... \u001b[?25l\u001b[?25hdone\n",
            "  Created wheel for gym-tictactoe: filename=gym_tictactoe-0.0.1-cp36-none-any.whl size=3867 sha256=77cfd6bf48b8fded8efcc63666291a1374e7c62ad737864d8eaf502466e77a1d\n",
            "  Stored in directory: /tmp/pip-ephem-wheel-cache-p2gcr9k7/wheels/bb/4c/4f/7f09353a58a0d6cf8a583cf26301cc12dfd2540c7e1abc0f25\n",
            "Successfully built gym-tictactoe\n",
            "Installing collected packages: gym-tictactoe\n",
            "Successfully installed gym-tictactoe-0.0.1\n"
          ],
          "name": "stdout"
        }
      ]
    },
    {
      "cell_type": "code",
      "metadata": {
        "id": "zTNsNJWKWhfQ",
        "colab_type": "code",
        "outputId": "06922f37-f450-40d0-95d0-99cc0a841420",
        "colab": {
          "base_uri": "https://localhost:8080/",
          "height": 71
        }
      },
      "source": [
        "import gym\n",
        "import gym_tictactoe\n",
        "env = gym.make('TicTacToe-v1')  \n",
        "env.init(symbols=[-1, 1]) # Define users symbols"
      ],
      "execution_count": 2,
      "outputs": [
        {
          "output_type": "stream",
          "text": [
            "/usr/local/lib/python3.6/dist-packages/gym/logger.py:30: UserWarning: \u001b[33mWARN: Environment '<class 'gym_tictactoe.tic_tac_toe.TicTacToeEnv'>' has deprecated methods '_step' and '_reset' rather than 'step' and 'reset'. Compatibility code invoked. Set _gym_disable_underscore_compat = True to disable this behavior.\u001b[0m\n",
            "  warnings.warn(colorize('%s: %s'%('WARN', msg % args), 'yellow'))\n"
          ],
          "name": "stderr"
        }
      ]
    },
    {
      "cell_type": "code",
      "metadata": {
        "id": "nUTzNXE9apEj",
        "colab_type": "code",
        "outputId": "929ce0c0-d672-4546-9cfd-467f992d2fda",
        "colab": {
          "base_uri": "https://localhost:8080/",
          "height": 816
        }
      },
      "source": [
        "user = 0\n",
        "done = False\n",
        "reward = 0\n",
        "\n",
        "# Reset the env before playing\n",
        "state = env.reset()\n",
        "\n",
        "while not done:\n",
        "    env.render(mode=None)\n",
        "    if user == 0:\n",
        "        state, reward, done, infos = env.step(env.action_space.sample(), -1)\n",
        "    elif user == 1:\n",
        "        state, reward, done, infos = env.step(env.action_space.sample(), 1)\n",
        "    \n",
        "    print(infos)\n",
        "    \n",
        "    # If the game isn't over, change the current player\n",
        "    if not done:\n",
        "        user = 0 if user == 1 else 1\n",
        "    else :\n",
        "        if reward == 10:\n",
        "            print(\"Draw !\")\n",
        "        elif reward == -20:\n",
        "            print(\"Infos : \" + str(infos))\n",
        "            if user == 0:\n",
        "                print(\"Random wins ! AI Reward : \" + str(reward))\n",
        "            elif user == 1:\n",
        "                print(\"AI wins ! AI Reward : \" + str(-reward))\n",
        "        elif reward == 20:\n",
        "            if user == 0:\n",
        "                print(\"AI wins ! AI Reward : \" + str(reward))\n",
        "            elif user == 1:\n",
        "                print(\"Random wins ! AI Reward : \" + str(reward))"
      ],
      "execution_count": 10,
      "outputs": [
        {
          "output_type": "stream",
          "text": [
            " -------------\n",
            " |   |   |   |\n",
            " -------------\n",
            " |   |   |   |\n",
            " -------------\n",
            " |   |   |   |\n",
            " -------------\n",
            "\n",
            "{'already_used_position': False}\n",
            " -------------\n",
            " |   |   |   |\n",
            " -------------\n",
            " | x |   |   |\n",
            " -------------\n",
            " |   |   |   |\n",
            " -------------\n",
            "\n",
            "{'already_used_position': False}\n",
            " -------------\n",
            " |   |   |   |\n",
            " -------------\n",
            " | x |   |   |\n",
            " -------------\n",
            " |   | o |   |\n",
            " -------------\n",
            "\n",
            "{'already_used_position': False}\n",
            " -------------\n",
            " | x |   |   |\n",
            " -------------\n",
            " | x |   |   |\n",
            " -------------\n",
            " |   | o |   |\n",
            " -------------\n",
            "\n",
            "{'already_used_position': False}\n",
            " -------------\n",
            " | x | o |   |\n",
            " -------------\n",
            " | x |   |   |\n",
            " -------------\n",
            " |   | o |   |\n",
            " -------------\n",
            "\n",
            "{'already_used_position': True}\n",
            "Infos : {'already_used_position': True}\n",
            "Random wins ! AI Reward : -20\n"
          ],
          "name": "stdout"
        }
      ]
    }
  ]
}